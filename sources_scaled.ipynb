{
 "cells": [
  {
   "cell_type": "code",
   "execution_count": null,
   "metadata": {},
   "outputs": [],
   "source": [
    "!.venv/bin/python -m psql_utils.script_intersect_with_census_geoms --geom-year 2020 --filter-name Contour --output-directory scaled_out scaled_src/*.kml"
   ]
  },
  {
   "cell_type": "code",
   "execution_count": null,
   "metadata": {},
   "outputs": [],
   "source": [
    "import pandas as pd\n",
    "from utils.read_kml import read_kml_using_mapbox\n",
    "import glob\n",
    "\n",
    "gdfs = []\n",
    "\n",
    "for file in glob.glob('scaled_src/*.kml'):\n",
    "    gdf = read_kml_using_mapbox(file)\n",
    "    print(\"Read\", len(gdf), \"layers (rows) from\", file)\n",
    "    gdf = gdf[gdf['name'].str.contains('Contour')].copy()\n",
    "    print(f\"Filtered to {len(gdf)} layers (rows) using filter-name 'Contour'\")\n",
    "    #assert(len(gdf) == 5)\n",
    "    gdf['name'] = [f\"Contour {i}\" for i in range(5)]\n",
    "    gdfs.append(gdf)\n",
    "    #gdf.to_file(f'scaled_out/{os.path.basename(file)}.geojson', driver='GeoJSON')\n",
    "\n",
    "gdf = gpd.GeoDataFrame(pd.concat(gdfs), crs=gdfs[0].crs)\n",
    "gdf.to_file(f'scaled_out/combined.geojson', driver='GeoJSON')\n"
   ]
  },
  {
   "cell_type": "code",
   "execution_count": null,
   "metadata": {},
   "outputs": [],
   "source": [
    "!.venv/bin/python -m psql_utils.script_intersect_with_census_geoms --geom-year 2020 --output-directory scaled_out scaled_out/combined.geojson"
   ]
  },
  {
   "cell_type": "code",
   "execution_count": null,
   "metadata": {},
   "outputs": [],
   "source": [
    "gdf.explore(tooltip=True)"
   ]
  },
  {
   "cell_type": "code",
   "execution_count": null,
   "metadata": {},
   "outputs": [],
   "source": [
    "gdf\n"
   ]
  },
  {
   "cell_type": "code",
   "execution_count": null,
   "metadata": {},
   "outputs": [],
   "source": []
  }
 ],
 "metadata": {
  "kernelspec": {
   "display_name": ".venv",
   "language": "python",
   "name": "python3"
  },
  "language_info": {
   "codemirror_mode": {
    "name": "ipython",
    "version": 3
   },
   "file_extension": ".py",
   "mimetype": "text/x-python",
   "name": "python",
   "nbconvert_exporter": "python",
   "pygments_lexer": "ipython3",
   "version": "3.11.1"
  }
 },
 "nbformat": 4,
 "nbformat_minor": 2
}
