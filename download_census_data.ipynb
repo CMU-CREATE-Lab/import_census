{
 "cells": [
  {
   "cell_type": "code",
   "execution_count": null,
   "metadata": {},
   "outputs": [],
   "source": [
    "import importlib, sys\n",
    "from utils.utils import ThCall\n",
    "\n",
    "if mod := sys.modules.get(\"download_census_data\"): importlib.reload(mod)\n",
    "import download_census_data\n",
    "\n",
    "#engine().execute(\"drop table census.dec2020pl_p2_tract\")\n",
    "\n",
    "#ds = CensusApiDataset(\"2010/dec/sf1\")\n"
   ]
  },
  {
   "cell_type": "code",
   "execution_count": null,
   "metadata": {},
   "outputs": [],
   "source": [
    "\n",
    "ThCall(download_census_data.display_storage)\n",
    "\n",
    "for dataset in [\n",
    "    #\"2020/dec/pl\",\n",
    "    #\"2010/dec/sf1\", \n",
    "    #\"2010/dec/sf2\",\n",
    "    #\"2000/dec/sf1\",\n",
    "    #\"2000/dec/sf2\", \n",
    "    #\"2000/dec/sf3\",\n",
    "    #\"2020/acs/acs5\"\n",
    "    #\"2021/acs/acs5\",\n",
    "    # See https://www.census.gov/data/developers/data-sets/decennial-census.html\n",
    "    \"2020/dec/dhc\", # Demographic and Housing Characteristics File (DHC)\n",
    "    ]:\n",
    "    ds = download_census_data.CensusApiDataset(dataset)\n",
    "    ds.download_tables_geo_levels(nthreads=15)"
   ]
  },
  {
   "cell_type": "code",
   "execution_count": null,
   "metadata": {},
   "outputs": [],
   "source": [
    "ds = download_census_data.CensusApiDataset(\"2021/acs/acs5\")\n",
    "#df = ds.api_get({'get': 'group(B07404APR)', 'for': 'state:*'})\n",
    "table_name = 'B98013'\n",
    "counties = ds.api_get({'get': f'group({table_name})', 'for': 'county:*'})\n",
    "variables = list(ds.tables[table_name].keys())    \n",
    "\n",
    "#counties = ds.api_get({'get': 'group(B07404EPR)', 'for': 'county:*'})\n",
    "#variables = ['B07404EPR_001E', \"B07404EPR_005E\"]\n",
    "county_has_data = ~counties[variables].isna().any(axis=1)\n",
    "sorted(counties[county_has_data]['state'].unique())"
   ]
  },
  {
   "cell_type": "code",
   "execution_count": null,
   "metadata": {},
   "outputs": [],
   "source": [
    "states = ds.api_get({'get': f'group({table_name})', 'for': 'us:*'})\n",
    "states\n"
   ]
  },
  {
   "cell_type": "code",
   "execution_count": null,
   "metadata": {},
   "outputs": [],
   "source": [
    "\n",
    "#census_api_get('https://api.census.gov/data/2021/acs/acs5', {'get': 'group(B07001PR)', 'for': 'state:*'})\n",
    "\n",
    "# import pandas as pd\n",
    "# pd.set_option('display.max_rows', None)\n",
    "\n",
    "# ds.api_get({'get': 'group(B07404GPR)', 'for': 'county:*', 'in': 'state:72'})\n"
   ]
  },
  {
   "cell_type": "code",
   "execution_count": null,
   "metadata": {},
   "outputs": [],
   "source": [
    "# for table in engine().list_tables(\"census\"):\n",
    "#     if table.startswith(\"dec2020\"):\n",
    "#         engine().execute(\"drop table census.\" + table)\n",
    "#     else:\n",
    "#         print(table)"
   ]
  },
  {
   "cell_type": "code",
   "execution_count": null,
   "metadata": {},
   "outputs": [],
   "source": [
    "#engine().execute_returning_df('select \"POPGROUP\" from census.dec2010sf2_hct1_state limit 10')"
   ]
  },
  {
   "cell_type": "code",
   "execution_count": null,
   "metadata": {},
   "outputs": [],
   "source": []
  }
 ],
 "metadata": {
  "kernelspec": {
   "display_name": ".venv",
   "language": "python",
   "name": "python3"
  },
  "language_info": {
   "codemirror_mode": {
    "name": "ipython",
    "version": 3
   },
   "file_extension": ".py",
   "mimetype": "text/x-python",
   "name": "python",
   "nbconvert_exporter": "python",
   "pygments_lexer": "ipython3",
   "version": "3.11.3"
  },
  "vscode": {
   "interpreter": {
    "hash": "8d02dc5a46efe9a16a7dd68f5fbf604eda098a5267d007165c3b7d3bf3fe9764"
   }
  }
 },
 "nbformat": 4,
 "nbformat_minor": 2
}
