{
 "cells": [
  {
   "cell_type": "code",
   "execution_count": null,
   "metadata": {},
   "outputs": [],
   "source": [
    "import re\n",
    "from functools import cache\n",
    "from psql_utils.epsql import Engine\n",
    "@cache\n",
    "def engine():\n",
    "    return Engine()\n",
    "\n",
    "\n"
   ]
  },
  {
   "cell_type": "code",
   "execution_count": null,
   "metadata": {},
   "outputs": [],
   "source": [
    "# for table in engine().list_tables(\"census\"):\n",
    "#     if table.startswith(\"dec2020\"):\n",
    "#         print(table)\n"
   ]
  },
  {
   "cell_type": "code",
   "execution_count": null,
   "metadata": {},
   "outputs": [],
   "source": [
    "from import_nhgis_shapefiles import nhgis_geo_table_name\n",
    "from psql_utils.epsql import get_table_name\n",
    "\n",
    "@cache\n",
    "def get_geo_geoids(year: int | str, geo_level_id: str, basis_id: str|None = None):\n",
    "    table_name = nhgis_geo_table_name(year, geo_level_id, basis_id)\n",
    "    return sorted(engine().execute_returning_value(f\"SELECT json_agg(geoid) FROM {table_name}\"))\n",
    "\n",
    "def parse_table_name(sql_table_name: str):\n",
    "    match = re.match(r\"[a-z]+(\\d+)[a-z]+\\w*_(\\w+)_(\\w+)\", get_table_name(sql_table_name))\n",
    "    if not match:\n",
    "        raise ValueError(f\"Invalid table name: {sql_table_name}\")\n",
    "    return dict(zip([\"year\", \"table_name\", \"geo_level\"], match.groups()))\n",
    "\n",
    "def validate_census_table(sql_table_name: str):\n",
    "    try:\n",
    "        table_info = parse_table_name(sql_table_name)\n",
    "    except:\n",
    "        print(f\"{sql_table_name}: Invalid table name\")\n",
    "        return\n",
    "    census_geoids = sorted(engine().execute_returning_value(f\"SELECT json_agg(geoid) FROM census.{sql_table_name}\"))\n",
    "\n",
    "    geo_geoids = get_geo_geoids(table_info[\"year\"], table_info[\"geo_level\"])\n",
    "    #geo_geoids = sorted(engine().execute_returning_value(f\"SELECT json_agg(geoid) FROM nhgis_geo_wgs84.tract_2020_tl2020\"))\n",
    "    census_only = sorted(set(census_geoids) - set(geo_geoids))\n",
    "    # Filter out tracts starting with 99\n",
    "    census_only = [geoid for geoid in census_only if not geoid[5:7] == \"99\"]\n",
    "    geo_only = sorted(set(geo_geoids) - set(census_geoids))\n",
    "    if geo_only:\n",
    "        raise Exception(f\"{sql_table_name}: {len(geo_only)} in geo only\")\n",
    "    if census_only:\n",
    "        print(f\"{sql_table_name}: {len(census_only)} in census only\")\n",
    "    else:\n",
    "        print(f\"{sql_table_name}: OK\")\n",
    "\n",
    "for table in sorted(engine().list_tables(\"census\")):\n",
    "    validate_census_table(table)\n",
    "validate_census_table(\"dec2020pl_h1_block\")\n",
    "validate_census_table(\"dec2020pl_h1_blockgroup\")\n",
    "validate_census_table(\"dec2020pl_h1_tract\")\n",
    "validate_census_table(\"dec2020pl_h1_county\")\n",
    "#parse_table_name(\"dec2020pl_h1_tract\")\n",
    "\n"
   ]
  },
  {
   "cell_type": "code",
   "execution_count": null,
   "metadata": {},
   "outputs": [],
   "source": [
    "# set pandas output to show all columns\n",
    "import pandas as pd\n",
    "pd.set_option('display.max_columns', None)\n",
    "\n",
    "\n",
    "engine().execute_returning_df(\"SELECT * FROM census.acs2021acs5_b05006pr_state\")"
   ]
  },
  {
   "cell_type": "code",
   "execution_count": null,
   "metadata": {},
   "outputs": [],
   "source": [
    "21/acs/acs5.B05006PR_001E st"
   ]
  }
 ],
 "metadata": {
  "kernelspec": {
   "display_name": ".venv",
   "language": "python",
   "name": "python3"
  },
  "language_info": {
   "codemirror_mode": {
    "name": "ipython",
    "version": 3
   },
   "file_extension": ".py",
   "mimetype": "text/x-python",
   "name": "python",
   "nbconvert_exporter": "python",
   "pygments_lexer": "ipython3",
   "version": "3.11.1"
  }
 },
 "nbformat": 4,
 "nbformat_minor": 2
}
