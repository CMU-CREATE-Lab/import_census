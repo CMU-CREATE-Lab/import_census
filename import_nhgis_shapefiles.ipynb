{
 "cells": [
  {
   "cell_type": "code",
   "execution_count": null,
   "metadata": {},
   "outputs": [],
   "source": [
    "import pandas as pd\n",
    "\n",
    "import importlib, sys\n",
    "\n",
    "if mod := sys.modules.get(\"psql_utils.epsql\"): importlib.reload(mod)\n",
    "import psql_utils.epsql as epsql\n",
    "engine = epsql.Engine()\n",
    "\n",
    "if mod := sys.modules.get(\"import_nhgis_shapefiles\"): importlib.reload(mod)\n",
    "from import_nhgis_shapefiles import nhgis_geo_download_year\n",
    "\n",
    "pd.set_option('display.max_columns', 500)\n"
   ]
  },
  {
   "cell_type": "code",
   "execution_count": null,
   "metadata": {},
   "outputs": [],
   "source": [
    "for year in [1990, 2000, 2008, 2009, 2010, 2011, 2012, 2013,2014, 2015, 2016, 2017, 2018, 2019, 2020, 2021, 2022]:\n",
    "    nhgis_geo_download_year(year)"
   ]
  },
  {
   "cell_type": "code",
   "execution_count": null,
   "metadata": {},
   "outputs": [],
   "source": [
    "gdf = engine.execute_returning_gdf(\"SELECT * FROM nhgis_geo_wgs84.block_2000_tl2010 where geoid between '420030' and '420033'\")\n",
    "gdf.explore()\n"
   ]
  },
  {
   "cell_type": "code",
   "execution_count": null,
   "metadata": {},
   "outputs": [],
   "source": []
  },
  {
   "cell_type": "code",
   "execution_count": null,
   "metadata": {},
   "outputs": [],
   "source": []
  },
  {
   "cell_type": "code",
   "execution_count": null,
   "metadata": {},
   "outputs": [],
   "source": []
  },
  {
   "cell_type": "code",
   "execution_count": null,
   "metadata": {},
   "outputs": [],
   "source": []
  },
  {
   "cell_type": "code",
   "execution_count": null,
   "metadata": {},
   "outputs": [],
   "source": []
  },
  {
   "cell_type": "code",
   "execution_count": null,
   "metadata": {},
   "outputs": [],
   "source": [
    "import import_nhgis_shapefiles\n",
    "import_nhgis_shapefiles.check_and_index_geoid_column(2010, \"block\", \"tl2020\", create_index=False)"
   ]
  },
  {
   "cell_type": "code",
   "execution_count": null,
   "metadata": {},
   "outputs": [],
   "source": [
    "df = engine.execute_returning_df(\"select * from nhgis_geo_wgs84.block_2010_tl2020\")"
   ]
  },
  {
   "cell_type": "code",
   "execution_count": null,
   "metadata": {},
   "outputs": [],
   "source": [
    "df"
   ]
  },
  {
   "cell_type": "code",
   "execution_count": null,
   "metadata": {},
   "outputs": [],
   "source": [
    "len(set(df.geoid)), len(df.geoid)"
   ]
  },
  {
   "cell_type": "code",
   "execution_count": null,
   "metadata": {},
   "outputs": [],
   "source": [
    "gdups = df[df.duplicated(subset=[\"geoid\"], keep=False)].sort_values(\"geoid\")\n",
    "print(len(gdups))\n",
    "gdups"
   ]
  },
  {
   "cell_type": "code",
   "execution_count": null,
   "metadata": {},
   "outputs": [],
   "source": [
    "dups = df[df.duplicated(keep=False)].sort_values(\"geoid\")\n",
    "print(len(dups))\n",
    "dups"
   ]
  },
  {
   "cell_type": "code",
   "execution_count": null,
   "metadata": {},
   "outputs": [],
   "source": [
    "# Show up to 1000 lines of dataframes\n",
    "pd.set_option('display.max_rows', 1000)"
   ]
  },
  {
   "cell_type": "code",
   "execution_count": null,
   "metadata": {},
   "outputs": [],
   "source": [
    "import shapely\n",
    "\n",
    "\n",
    "dupcopy = dups.copy()\n",
    "dupcopy[\"geom\"] = dupcopy[\"geom\"].apply(lambda x: shapely.wkb.loads(x))\n",
    "dupcopy=gpd.GeoDataFrame(dupcopy, geometry=\"geom\", crs=\"EPSG:4326\")\n",
    "dupcopy.explore()\n"
   ]
  },
  {
   "cell_type": "code",
   "execution_count": null,
   "metadata": {},
   "outputs": [],
   "source": [
    "dupcopy.iloc[0].geom"
   ]
  },
  {
   "cell_type": "code",
   "execution_count": null,
   "metadata": {},
   "outputs": [],
   "source": [
    "gpd.GeoDataFrame(, geometry=\"geom\").explore()\n",
    "# Create a geodataframe from gdups, converting geom column from hex-encoded WKB to shapely geometry\n"
   ]
  },
  {
   "cell_type": "code",
   "execution_count": null,
   "metadata": {},
   "outputs": [],
   "source": []
  },
  {
   "cell_type": "code",
   "execution_count": null,
   "metadata": {},
   "outputs": [],
   "source": []
  },
  {
   "cell_type": "code",
   "execution_count": null,
   "metadata": {},
   "outputs": [],
   "source": [
    "# for table_name in [\"tract_1990_tl2000\", \"tract_2000_tl2000\", \"block_1990_tl2000\", \"block_2000_tl2000\", \"block_2000_tl2010\", \"block_2010_tl2010\", \"block_2010_tl2020\", \"block_2020_tl2020\"]:\n",
    "#     engine.execute(f\"drop table if exists nhgis_geo_wgs84.{table_name}\")\n"
   ]
  },
  {
   "cell_type": "code",
   "execution_count": null,
   "metadata": {},
   "outputs": [],
   "source": []
  },
  {
   "cell_type": "code",
   "execution_count": null,
   "metadata": {},
   "outputs": [],
   "source": [
    "import geopandas as gpd\n",
    "al=gpd.read_file(\"nhgis_geo_downloads/block_2010_tl2010/extract_975/shapefiles/nhgis0975_shapefile_tl2010_010_block_2010/AL_block_2010.shp\", ignore_geometry=True)\n",
    "ak=gpd.read_file(\"nhgis_geo_downloads/block_2010_tl2010/extract_975/shapefiles/nhgis0975_shapefile_tl2010_020_block_2010/AK_block_2010.shp\", ignore_geometry=True)\n",
    "az=gpd.read_file(\"nhgis_geo_downloads/block_2010_tl2010/extract_975/shapefiles/nhgis0975_shapefile_tl2010_040_block_2010/AZ_block_2010.shp\", ignore_geometry=True)"
   ]
  },
  {
   "cell_type": "code",
   "execution_count": null,
   "metadata": {},
   "outputs": [],
   "source": [
    "az[\"ALAND10\"].dtype"
   ]
  },
  {
   "cell_type": "code",
   "execution_count": null,
   "metadata": {},
   "outputs": [],
   "source": []
  },
  {
   "cell_type": "code",
   "execution_count": null,
   "metadata": {},
   "outputs": [],
   "source": []
  },
  {
   "cell_type": "code",
   "execution_count": null,
   "metadata": {},
   "outputs": [],
   "source": [
    "engine.execute(\"drop table if exists nhgis_geo_wgs84.block_2010_tl2010\")"
   ]
  },
  {
   "cell_type": "code",
   "execution_count": null,
   "metadata": {},
   "outputs": [],
   "source": [
    "#engine().execute(\"ALTER TABLE nhgis_geo_wgs84.tract_2000_tl2008 DROP COLUMN geoid\")\n",
    "#engine().execute_returning_df(\"select * from nhgis_geo_wgs84.tract_2000_tl2000 where geoid='40210000700';\")\n"
   ]
  },
  {
   "cell_type": "code",
   "execution_count": null,
   "metadata": {},
   "outputs": [],
   "source": []
  },
  {
   "cell_type": "code",
   "execution_count": null,
   "metadata": {},
   "outputs": [],
   "source": []
  },
  {
   "cell_type": "code",
   "execution_count": null,
   "metadata": {},
   "outputs": [],
   "source": []
  },
  {
   "cell_type": "code",
   "execution_count": null,
   "metadata": {},
   "outputs": [],
   "source": [
    "    # def shapefile_path(self, state_fips):\n",
    "    #     name = self.geography_name(state_fips)\n",
    "    #     dest = f'{tiger_downloads}/{name}'\n",
    "\n",
    "    #     if not os.path.exists(dest):\n",
    "    #         src = self.src(state_fips)\n",
    "\n",
    "    #         utils.download_file(src, f'{dest}.zip')\n",
    "    #         utils.unzip_file(f'{dest}.zip')\n",
    "    #         os.unlink(f'{dest}.zip')\n",
    "        \n",
    "    #     shapefile_candidates = glob.glob(f'{dest}/*.shp')\n",
    "    #     assert len(shapefile_candidates) == 1\n",
    "    #     return shapefile_candidates[0]\n",
    "\n",
    "    # def read_shapefile_as_wgs84(self, state_fips: str):\n",
    "    #     gdf = gpd.read_file(self.shapefile_path(state_fips))\n",
    "    #     epsql.sanitize_column_names(gdf, inplace=True)\n",
    "    #     gdf.rename_geometry('geom', inplace=True)\n",
    "    #     gdf.to_crs(epsg=4326, inplace = True)\n",
    "    #     return gdf\n",
    "\n",
    "    # def geography_name(self, state_fips: str):\n",
    "    #     return f'tl_{self.year}_{state_fips}_{self.level_name}'\n",
    "    \n",
    "    # def geography_table_name(self):\n",
    "    #     return f'tiger_wgs84.tl_{self.year}_{self.level_name}'\n",
    "\n",
    "    # def src(self, state_fips: str):\n",
    "    #     src = (\n",
    "    #         f'https://www2.census.gov/geo/tiger/TIGER{self.year}/{self.download_subdir}/'\n",
    "    #         f'{self.geography_name(state_fips)}.zip'\n",
    "    #     )\n",
    "    #     return src\n",
    "\n",
    "    # def index_geography_geometries(self, engine):\n",
    "    #     table_name = self.geography_table_name()\n",
    "    #     schema = epsql.get_schema(table_name)\n",
    "    #     with engine().connect() as con:\n",
    "    #         con.execute(f'CREATE INDEX IF NOT EXISTS {epsql.get_table_name(table_name)}_geom_idx ON {table_name} USING GIST (geom)')\n",
    "    #         con.execute(f'CREATE INDEX IF NOT EXISTS {epsql.get_table_name(table_name)}_geoid_idx ON {table_name} ({self.geoid_column_name})')\n",
    "\n"
   ]
  },
  {
   "cell_type": "code",
   "execution_count": null,
   "metadata": {},
   "outputs": [],
   "source": []
  },
  {
   "cell_type": "code",
   "execution_count": null,
   "metadata": {},
   "outputs": [],
   "source": []
  },
  {
   "cell_type": "code",
   "execution_count": null,
   "metadata": {},
   "outputs": [],
   "source": []
  },
  {
   "cell_type": "code",
   "execution_count": null,
   "metadata": {},
   "outputs": [],
   "source": []
  },
  {
   "cell_type": "code",
   "execution_count": null,
   "metadata": {},
   "outputs": [],
   "source": []
  },
  {
   "cell_type": "code",
   "execution_count": null,
   "metadata": {},
   "outputs": [],
   "source": []
  },
  {
   "cell_type": "code",
   "execution_count": null,
   "metadata": {},
   "outputs": [],
   "source": []
  },
  {
   "cell_type": "code",
   "execution_count": null,
   "metadata": {},
   "outputs": [],
   "source": [
    "\n",
    "\n",
    "# #%%\n",
    "\n",
    "# def add_census_geoids(engine, dest_table, dest_geom_column, year, verbose=False):\n",
    "#     print(f'Adding census geoids to {dest_table}.{dest_geom_column} from TIGER year {year}')\n",
    "#     for geography in NhgisGeographyTable.geography_tables(year):\n",
    "#         census_table = geography.table_name()\n",
    "#         census_geoid_column = geography.geoid_column_name\n",
    "#         dest_geoid_column = f'{dest_geom_column}_{geography}_{census_geoid_column}'\n",
    "#         engine().execute(f'ALTER TABLE {dest_table} DROP COLUMN IF EXISTS {dest_geoid_column}')\n",
    "#         engine().execute(f'ALTER TABLE {dest_table} ADD COLUMN {dest_geoid_column} TEXT')\n",
    "#         cmd = f\"\"\"\n",
    "#             UPDATE {dest_table} AS dest\n",
    "#             SET {dest_geoid_column} = tiger.{census_geoid_column}\n",
    "#             FROM {census_table} AS tiger\n",
    "#             WHERE ST_Contains(tiger.geom, dest.{dest_geom_column})\"\"\"\n",
    "#         engine().execute(cmd, verbose=verbose)\n",
    "#         geoid_count = engine().execute_count(f'SELECT COUNT({dest_geoid_column}) FROM {dest_table}')\n",
    "#         all_count = engine().execute_count(f'SELECT COUNT(*) FROM {dest_table}')\n",
    "#         print(f'  Created {dest_table}.{dest_geoid_column}, finding {geoid_count} of {all_count} records')\n",
    "# # %%\n"
   ]
  }
 ],
 "metadata": {
  "kernelspec": {
   "display_name": ".venv",
   "language": "python",
   "name": "python3"
  },
  "language_info": {
   "codemirror_mode": {
    "name": "ipython",
    "version": 3
   },
   "file_extension": ".py",
   "mimetype": "text/x-python",
   "name": "python",
   "nbconvert_exporter": "python",
   "pygments_lexer": "ipython3",
   "version": "3.11.3"
  }
 },
 "nbformat": 4,
 "nbformat_minor": 2
}
