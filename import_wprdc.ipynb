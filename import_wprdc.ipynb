{
 "cells": [
  {
   "cell_type": "code",
   "execution_count": null,
   "metadata": {},
   "outputs": [],
   "source": [
    "from functools import cache\n",
    "import os\n",
    "from psql_utils import epsql\n",
    "from psql_utils.pgis_utils import GeographySource\n",
    "from utils import utils\n",
    "import pandas as pd\n",
    "import geopandas as gpd\n",
    "\n",
    "@cache\n",
    "def engine():\n",
    "    return epsql.Engine()\n"
   ]
  },
  {
   "cell_type": "code",
   "execution_count": null,
   "metadata": {},
   "outputs": [],
   "source": [
    "wprdc_sources = [\n",
    "    GeographySource(\"wprdc_wgs84.pittsburgh_neighborhoods\", \"https://data.wprdc.org/dataset/e672f13d-71c4-4a66-8f38-710e75ed80a4/resource/4af8e160-57e9-4ebf-a501-76ca1b42fc99/download/pittsburghpaneighborhoods-.geojson\"),\n",
    "    GeographySource(\"wprdc_wgs84.pittsburgh_nbds\", \"https://data.wprdc.org/dataset/e672f13d-71c4-4a66-8f38-710e75ed80a4/resource/4af8e160-57e9-4ebf-a501-76ca1b42fc99/download/pittsburghpaneighborhoods-.geojson\"),\n",
    "    GeographySource(\"wprdc_wgs84.allegheny_county_zipcodes\", \"https://data.wprdc.org/dataset/1a5135de-cabe-4e23-b5e4-b2b8dd733817/resource/14e5de97-0a5f-4521-84f6-ba74413db598/download/alcogisallegheny-county-zip-code-boundaries.geojson\"),\n",
    "    GeographySource(\"wprdc_wgs84.allegheny_county_munis\", \"https://data.wprdc.org/dataset/2fa577d6-1a6b-46a8-8165-27fecac1dee5/resource/b0cb0249-d1ba-45b7-9918-dc86fa8af04c/download/alcogisallegheny-county-municipal-boundaries.geojson\"),\n",
    "    GeographySource(\"wprdc_wgs84.allegheny_county_mdjs\", \"https://data.wprdc.org/dataset/205353f9-9a87-4727-9d57-5fed1d88273f/resource/eaf1bae3-5a03-46fa-9023-5924693774dd/download/alcogisallegheny-county-magisterial-districts-outlines-2015.geojson\")\n",
    "]\n",
    "\n",
    "for source in wprdc_sources:\n",
    "    source.to_postgis(engine())"
   ]
  }
 ],
 "metadata": {
  "kernelspec": {
   "display_name": ".venv",
   "language": "python",
   "name": "python3"
  },
  "language_info": {
   "codemirror_mode": {
    "name": "ipython",
    "version": 3
   },
   "file_extension": ".py",
   "mimetype": "text/x-python",
   "name": "python",
   "nbconvert_exporter": "python",
   "pygments_lexer": "ipython3",
   "version": "3.11.3"
  }
 },
 "nbformat": 4,
 "nbformat_minor": 2
}
