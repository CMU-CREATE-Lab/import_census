{
 "cells": [
  {
   "cell_type": "code",
   "execution_count": null,
   "metadata": {},
   "outputs": [],
   "source": [
    "import io, glob, json, os, re, requests, subprocess, zipfile\n",
    "import pandas as pd\n",
    "from functools import cache\n",
    "from psql_utils.nhgis_api import NhgisApi, DatasetExtractSpec\n",
    "from utils.utils import SimpleThreadPoolExecutor\n",
    "@cache\n",
    "def api():\n",
    "    return NhgisApi()\n"
   ]
  },
  {
   "attachments": {},
   "cell_type": "markdown",
   "metadata": {},
   "source": [
    "## Get info for all datasets from 1990 Census"
   ]
  },
  {
   "cell_type": "code",
   "execution_count": null,
   "metadata": {},
   "outputs": [],
   "source": [
    "datasets = api().get_datasets_metadata()\n",
    "selected_datasets = datasets[datasets['group'] == '1990 Census'].copy()\n",
    "\n",
    "ncols = []\n",
    "geoms = []\n",
    "    \n",
    "for i in range(len(selected_datasets)):\n",
    "    metadata, tables_df = api().get_dataset_metadata(selected_datasets[\"name\"].iloc[i])\n",
    "    ncols.append(len(tables_df))\n",
    "    geoms.append([level[\"name\"] for level in metadata[\"geogLevels\"]])\n",
    "\n",
    "selected_datasets[\"ncols\"] = ncols\n",
    "selected_datasets[\"geoms\"] = geoms\n",
    "\n",
    "# show full width of columns\n",
    "pd.set_option('display.max_colwidth', None)\n",
    "\n",
    "selected_datasets"
   ]
  },
  {
   "cell_type": "code",
   "execution_count": null,
   "metadata": {},
   "outputs": [],
   "source": [
    "nhgis_data_downloads = \"nhgis_data_downloads\"\n",
    "\n",
    "def download_table(dataset_name: str, table_name: str, geographic_level: str):\n",
    "    data_dir = f\"{nhgis_data_downloads}/{dataset_name}/{table_name}_{geographic_level}\"\n",
    "    os.makedirs(data_dir, exist_ok=True)\n",
    "    extract_requests_path = f\"{data_dir}/extract_requests.json\"\n",
    "\n",
    "    if not os.path.exists(extract_requests_path):\n",
    "        extract_numbers: list[int] = []\n",
    "        dataset_extract_spec = DatasetExtractSpec(dataset_name, [table_name], [geographic_level])\n",
    "        extract_numbers = [api().request_extract(datasets=[dataset_extract_spec])]\n",
    "        open(extract_requests_path, \"w\").write(json.dumps(extract_numbers) + \"\\n\")\n",
    "    extract_numbers = json.load(open(extract_requests_path))\n",
    "    already_done = 0\n",
    "    already_downloaded = 0\n",
    "    for extract_number in extract_numbers:\n",
    "        extract_done_path = f\"{data_dir}/extract_{extract_number}_done\"\n",
    "        if os.path.exists(extract_done_path):\n",
    "            already_done += 1\n",
    "            continue\n",
    "        extract_dir = f\"{data_dir}/extract_{extract_number}\"\n",
    "        if os.path.exists(extract_dir):\n",
    "            already_downloaded += 1\n",
    "        else:\n",
    "            api().download_extract(extract_number, extract_dir)\n",
    "    if already_done:\n",
    "        print(f\"{table_name}: {already_done} extracts already complete\")\n",
    "    if already_downloaded:\n",
    "        print(f\"{table_name}: {already_downloaded} extracts already downloaded\")\n",
    "\n",
    "\n",
    "def download_dataset(dataset_name: str):\n",
    "    geo_level = \"block\"\n",
    "    print(f\"download_dataset({dataset_name})\")\n",
    "\n",
    "    metadata, tables_df = api().get_dataset_metadata(dataset_name)\n",
    "    pool = SimpleThreadPoolExecutor(max_workers=4)\n",
    "    for table_name in tables_df[\"name\"]:\n",
    "        pool.submit(download_table, dataset_name, table_name, geo_level)\n",
    "    pool.shutdown()\n",
    "\n",
    "def download_datasets(dataset_names: list[str]):\n",
    "    for dataset_name in dataset_names:\n",
    "        download_dataset(dataset_name)\n",
    "\n",
    "download_datasets([\"1990_STF1\"])\n",
    "\n",
    "#download_datasets(selected_datasets[\"name\"])"
   ]
  }
 ],
 "metadata": {
  "kernelspec": {
   "display_name": ".venv",
   "language": "python",
   "name": "python3"
  },
  "language_info": {
   "codemirror_mode": {
    "name": "ipython",
    "version": 3
   },
   "file_extension": ".py",
   "mimetype": "text/x-python",
   "name": "python",
   "nbconvert_exporter": "python",
   "pygments_lexer": "ipython3",
   "version": "3.11.3"
  }
 },
 "nbformat": 4,
 "nbformat_minor": 2
}
