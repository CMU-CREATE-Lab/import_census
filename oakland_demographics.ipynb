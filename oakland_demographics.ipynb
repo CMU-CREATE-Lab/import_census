{
 "cells": [
  {
   "cell_type": "code",
   "execution_count": null,
   "metadata": {},
   "outputs": [],
   "source": [
    "import shapely\n",
    "from psql_utils.epsql import Engine\n",
    "from psql_utils.pgis_utils import find_nhgis_census_table, get_geom_at_iloc\n",
    "import geopandas as gpd\n",
    "import pandas as pd\n",
    "\n",
    "engine = Engine()"
   ]
  },
  {
   "cell_type": "code",
   "execution_count": null,
   "metadata": {},
   "outputs": [],
   "source": [
    "# Get Oakland and its neighborhoods\n",
    "neighborhoods = engine.execute_returning_gdf(\"select hood, geom from allegheny_county_neighborhoods where hood like '%%Oakland%%'\")\n",
    "oakland_geom = neighborhoods.geometry.unary_union\n",
    "neighborhoods = gpd.GeoDataFrame( # type: ignore    \n",
    "    pd.concat([neighborhoods, gpd.GeoDataFrame({'hood': 'Oakland', 'geom': oakland_geom}, index=[0])], ignore_index=True),\n",
    "    geometry='geom',\n",
    "    crs=neighborhoods.crs)\n",
    "print(neighborhoods)\n",
    "print(neighborhoods.crs.to_epsg())\n",
    "#neighborhoods.explore()"
   ]
  },
  {
   "cell_type": "code",
   "execution_count": null,
   "metadata": {},
   "outputs": [],
   "source": [
    "\n",
    "        \n",
    "#    return engine.execute_returning_gdf(f\"select *, st_area(st_intersection(geom, {pggeom(geom)})::geography) / st_area(geom::geography) as weight from {geo_table} where st_intersects({pggeom(geom)}, geom)\")\n",
    "\n",
    "#    print(table)"
   ]
  },
  {
   "cell_type": "code",
   "execution_count": null,
   "metadata": {},
   "outputs": [],
   "source": [
    "# Fetch block-level population data from decennial census using api.census.gov\n",
    "import requests\n",
    "import pandas as pd\n",
    "\n",
    "# Feel free to Mickey's key or replace with your own.\n",
    "CensusAPIKey = open(\".secrets/census_api_key.txt\").read().strip()\n",
    "\n",
    "# Define API endpoint\n",
    "#base_url = 'https://api.census.gov/data/2021/acs/acs5'\n",
    "base_url = 'https://api.census.gov/data/2020/dec/pl'\n",
    "\n",
    "measures = {\n",
    "    'P1_001N': 'Total Population',\n",
    "    'P2_002N': 'Hispanic/Latino',\n",
    "    'P2_005N': 'White',\n",
    "    'P2_006N': 'Black or African American',\n",
    "    'P2_007N': 'American Indian/Alaska Native',\n",
    "    'P2_008N': 'Asian',\n",
    "    'P2_009N': 'Native Hawaiian/Other Pacific Islander',\n",
    "    'P2_010N': 'Other',\n",
    "    'P2_011N': 'Two or More Races'\n",
    "}\n",
    "\n",
    "# Define payload\n",
    "payload = {\n",
    "    'get': ','.join(['GEO_ID'] + list(measures.keys())),\n",
    "    'for': 'block:*',\n",
    "    'in': 'state:42 county:003 tract:*', # Note: hardcoding in specific states\n",
    "    'key': CensusAPIKey\n",
    "}\n",
    "\n",
    "# Send request\n",
    "response = requests.get(base_url, params=payload)\n",
    "\n",
    "# Convert response to pandas dataframe\n",
    "orig = pd.DataFrame(response.json()[1:], columns=response.json()[0])\n"
   ]
  },
  {
   "cell_type": "code",
   "execution_count": null,
   "metadata": {},
   "outputs": [],
   "source": [
    "copy = orig.copy()\n",
    "copy['GEO_ID'] = copy['GEO_ID'].str[9:]\n",
    "\n",
    "for id, name in measures.items():\n",
    "    copy[name] = copy[id].astype(int)\n",
    "    del copy[id]\n",
    "\n",
    "# Rename Columns\n",
    "#ACSdf.columns = ['GEO_ID','Total Pop', 'state','county','tract','bg']\n",
    "\n",
    "# Print dataframe\n",
    "\n",
    "copy['Other'] = copy['American Indian/Alaska Native'] + copy['Native Hawaiian/Other Pacific Islander'] + copy['Other']\n",
    "del copy['American Indian/Alaska Native']\n",
    "del copy['Native Hawaiian/Other Pacific Islander']\n",
    "\n",
    "copy"
   ]
  },
  {
   "cell_type": "code",
   "execution_count": null,
   "metadata": {},
   "outputs": [],
   "source": [
    "from psql_utils.pgis_utils import intersect_all\n",
    "\n",
    "\n",
    "for year in [2020]:\n",
    "    geom_table = find_nhgis_census_table(engine, 'block', year)\n",
    "    for i in range(len(neighborhoods)):\n",
    "        geom = get_geom_at_iloc(neighborhoods, i)\n",
    "        print(f\"Year {year}, neighborhood {neighborhoods['hood'][i]}\")\n",
    "        df = intersect_all(engine, geom, geom_table)\n",
    "        all_len = len(df)\n",
    "        df = df[df.weight > 0.5]\n",
    "        print(f\"  {len(df)} of {all_len} blocks have > 50% overlap\")\n",
    "        neighborhood_geoids = set(df['geoid'])\n",
    "        #print(df.sum())\n",
    "        in_neighborhood = copy['GEO_ID'].apply(lambda geoid: geoid in neighborhood_geoids)\n",
    "        stats = copy[in_neighborhood].drop(['GEO_ID', 'state', 'county', 'tract', 'block'], axis=1)\n",
    "        print(f\"  {len(stats)} blocks found from stats\")\n",
    "        sum = stats.sum()\n",
    "        sum['hood'] = neighborhoods['hood'][i]\n",
    "        sum['year'] = year\n",
    "        print(sum)\n",
    "        # for geoid in df.geoid:\n",
    "        #     count += \n",
    "        #     copy.loc[copy['GEO_ID'] == geoid, 'hood'] = neighborhoods['hood'][i]\n",
    "\n"
   ]
  },
  {
   "cell_type": "code",
   "execution_count": null,
   "metadata": {},
   "outputs": [],
   "source": []
  }
 ],
 "metadata": {
  "kernelspec": {
   "display_name": ".venv",
   "language": "python",
   "name": "python3"
  },
  "language_info": {
   "codemirror_mode": {
    "name": "ipython",
    "version": 3
   },
   "file_extension": ".py",
   "mimetype": "text/x-python",
   "name": "python",
   "nbconvert_exporter": "python",
   "pygments_lexer": "ipython3",
   "version": "3.11.1"
  }
 },
 "nbformat": 4,
 "nbformat_minor": 2
}
